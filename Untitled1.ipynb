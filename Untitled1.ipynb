{
 "cells": [
  {
   "cell_type": "code",
   "execution_count": null,
   "metadata": {
    "collapsed": true
   },
   "outputs": [],
   "source": []
  },
  {
   "cell_type": "code",
   "execution_count": null,
   "metadata": {
    "collapsed": true
   },
   "outputs": [],
   "source": [
    "mdwarfs_winnow_excess = [o for o in wise_mdwarfs if o.w4xs >= 0.4 and o.w4xs <=2.5]\n",
    "\n",
    "print \"Remaining targets:\", len(mdwarfs_winnow_excess)\n",
    "winnowed_mdwarfs_w4xs = np.array([o.w4xs for o in mdwarfs_winnow_excess])\n",
    "\n",
    "plt.hist(winnowed_mdwarfs_w4xs)\n",
    "plt.xlabel('W1-W4')\n",
    "plt.ylabel('Number')\n",
    "plt.xlim([0., 2.5])\n",
    "\n",
    "plt.show()"
   ]
  }
 ],
 "metadata": {
  "kernelspec": {
   "display_name": "Python 2",
   "language": "python",
   "name": "python2"
  },
  "language_info": {
   "codemirror_mode": {
    "name": "ipython",
    "version": 2
   },
   "file_extension": ".py",
   "mimetype": "text/x-python",
   "name": "python",
   "nbconvert_exporter": "python",
   "pygments_lexer": "ipython2",
   "version": "2.7.14"
  }
 },
 "nbformat": 4,
 "nbformat_minor": 2
}
