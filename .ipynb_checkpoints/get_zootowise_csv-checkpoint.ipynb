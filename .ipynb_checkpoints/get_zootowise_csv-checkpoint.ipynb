{
 "cells": [
  {
   "cell_type": "code",
   "execution_count": 6,
   "metadata": {},
   "outputs": [
    {
     "ename": "AttributeError",
     "evalue": "'module' object has no attribute 'core'",
     "output_type": "error",
     "traceback": [
      "\u001b[1;31m---------------------------------------------------------------------------\u001b[0m",
      "\u001b[1;31mAttributeError\u001b[0m                            Traceback (most recent call last)",
      "\u001b[1;32m<ipython-input-6-9af094d38f7b>\u001b[0m in \u001b[0;36m<module>\u001b[1;34m()\u001b[0m\n\u001b[1;32m----> 1\u001b[1;33m \u001b[1;32mimport\u001b[0m \u001b[0mpandas\u001b[0m \u001b[1;32mas\u001b[0m \u001b[0mpd\u001b[0m\u001b[1;33m\u001b[0m\u001b[0m\n\u001b[0m\u001b[0;32m      2\u001b[0m \u001b[1;33m\u001b[0m\u001b[0m\n\u001b[0;32m      3\u001b[0m \u001b[1;32mwith\u001b[0m \u001b[0mopen\u001b[0m\u001b[1;33m(\u001b[0m\u001b[1;34m'zootowise.txt'\u001b[0m\u001b[1;33m)\u001b[0m \u001b[1;32mas\u001b[0m \u001b[0mf\u001b[0m\u001b[1;33m:\u001b[0m\u001b[1;33m\u001b[0m\u001b[0m\n\u001b[0;32m      4\u001b[0m     \u001b[0mdata\u001b[0m \u001b[1;33m=\u001b[0m \u001b[0mf\u001b[0m\u001b[1;33m.\u001b[0m\u001b[0mreadlines\u001b[0m\u001b[1;33m(\u001b[0m\u001b[1;33m)\u001b[0m\u001b[1;33m\u001b[0m\u001b[0m\n\u001b[0;32m      5\u001b[0m \u001b[1;33m\u001b[0m\u001b[0m\n",
      "\u001b[1;32mC:\\Users\\Steven Silverberg\\Anaconda2\\lib\\site-packages\\pandas\\__init__.py\u001b[0m in \u001b[0;36m<module>\u001b[1;34m()\u001b[0m\n\u001b[0;32m     38\u001b[0m \u001b[1;33m\u001b[0m\u001b[0m\n\u001b[0;32m     39\u001b[0m \u001b[1;31m# let init-time option registration happen\u001b[0m\u001b[1;33m\u001b[0m\u001b[1;33m\u001b[0m\u001b[0m\n\u001b[1;32m---> 40\u001b[1;33m \u001b[1;32mimport\u001b[0m \u001b[0mpandas\u001b[0m\u001b[1;33m.\u001b[0m\u001b[0mcore\u001b[0m\u001b[1;33m.\u001b[0m\u001b[0mconfig_init\u001b[0m\u001b[1;33m\u001b[0m\u001b[0m\n\u001b[0m\u001b[0;32m     41\u001b[0m \u001b[1;33m\u001b[0m\u001b[0m\n\u001b[0;32m     42\u001b[0m \u001b[1;32mfrom\u001b[0m \u001b[0mpandas\u001b[0m\u001b[1;33m.\u001b[0m\u001b[0mcore\u001b[0m\u001b[1;33m.\u001b[0m\u001b[0mapi\u001b[0m \u001b[1;32mimport\u001b[0m \u001b[1;33m*\u001b[0m\u001b[1;33m\u001b[0m\u001b[0m\n",
      "\u001b[1;32mC:\\Users\\Steven Silverberg\\Anaconda2\\lib\\site-packages\\pandas\\core\\config_init.py\u001b[0m in \u001b[0;36m<module>\u001b[1;34m()\u001b[0m\n\u001b[0;32m     12\u001b[0m \u001b[1;32mimport\u001b[0m \u001b[0mwarnings\u001b[0m\u001b[1;33m\u001b[0m\u001b[0m\n\u001b[0;32m     13\u001b[0m \u001b[1;33m\u001b[0m\u001b[0m\n\u001b[1;32m---> 14\u001b[1;33m \u001b[1;32mimport\u001b[0m \u001b[0mpandas\u001b[0m\u001b[1;33m.\u001b[0m\u001b[0mcore\u001b[0m\u001b[1;33m.\u001b[0m\u001b[0mconfig\u001b[0m \u001b[1;32mas\u001b[0m \u001b[0mcf\u001b[0m\u001b[1;33m\u001b[0m\u001b[0m\n\u001b[0m\u001b[0;32m     15\u001b[0m from pandas.core.config import (is_int, is_bool, is_text, is_instance_factory,\n\u001b[0;32m     16\u001b[0m                                 \u001b[0mis_one_of_factory\u001b[0m\u001b[1;33m,\u001b[0m \u001b[0mget_default_val\u001b[0m\u001b[1;33m,\u001b[0m\u001b[1;33m\u001b[0m\u001b[0m\n",
      "\u001b[1;31mAttributeError\u001b[0m: 'module' object has no attribute 'core'"
     ]
    }
   ],
   "source": [
    "import pandas as pd\n",
    "\n",
    "with open('zootowise.txt') as f:\n",
    "    data = f.readlines()\n",
    "\n",
    "f1 = open('zootowise.csv','w')\n",
    "\n",
    "zoo_to_wise_dict = {}\n",
    "wise_to_zoo_dict = {}\n",
    "    \n",
    "for line in data:\n",
    "    line_use = line.rstrip()\n",
    "    vec = line.split()\n",
    "    f1.write(vec[0]+','+vec[1]+'\\n')\n",
    "    \n",
    "    #zooid = vec[0]\n",
    "    #wiseid = vec[1]\n",
    "    \n",
    "    #if wiseid not in wise_to_zoo_dict.keys():\n",
    "    #    wise_to_zoo_dict[wiseid] = [zooid]\n",
    "    #else:\n",
    "    #    wise_to_zoo_dict[wiseid].append(zooid)\n",
    "        \n",
    "    #zoo_to_wise_dict[zooid] = wiseid\n",
    "    \n",
    "f1.close()\n",
    "\n",
    "print \"Done\"\n",
    "\n",
    "df = pd.read_csv('zootowise.csv')\n",
    "data = df.values\n",
    "\n",
    "zooid_list = data[:,0].tolist()\n",
    "wiseid_list = set(data[:,1].tolist())\n",
    "\n",
    "zoo_to_wise_dict = {data[i,0]: data[i,1] for i in range(data[:,0].size)}\n",
    "    \n",
    "with open('input_zooids.txt') as f2:\n",
    "    input_zooids_data = f.readlines()\n",
    "    \n",
    "input_zooids = []\n",
    "\n",
    "for line in input_zooids_data:\n",
    "    input_zooids.append(line.rstrip())\n",
    "    \n",
    "f3 = open('zooids_wiseids.csv','w')\n",
    "\n",
    "for zooid in input_zooids:\n",
    "    f3.write(zooid+','+zoo_to_wise_dict[zooid]+'\\n')\n",
    "    \n",
    "f3.close()\n",
    "\n",
    "print \"Done\""
   ]
  }
 ],
 "metadata": {
  "kernelspec": {
   "display_name": "Python 2",
   "language": "python",
   "name": "python2"
  },
  "language_info": {
   "codemirror_mode": {
    "name": "ipython",
    "version": 2
   },
   "file_extension": ".py",
   "mimetype": "text/x-python",
   "name": "python",
   "nbconvert_exporter": "python",
   "pygments_lexer": "ipython2",
   "version": "2.7.14"
  }
 },
 "nbformat": 4,
 "nbformat_minor": 2
}
