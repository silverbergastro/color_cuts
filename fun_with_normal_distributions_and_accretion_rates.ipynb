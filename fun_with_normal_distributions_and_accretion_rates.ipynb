{
 "cells": [
  {
   "cell_type": "code",
   "execution_count": 9,
   "metadata": {},
   "outputs": [
    {
     "data": {
      "image/png": "[encoded data removed]",
      "text/plain": [
       "<matplotlib.figure.Figure at 0xa3deb00>"
      ]
     },
     "metadata": {},
     "output_type": "display_data"
    },
    {
     "data": {
      "image/png": "[encoded data removed]",
      "text/plain": [
       "<matplotlib.figure.Figure at 0xa5632e8>"
      ]
     },
     "metadata": {},
     "output_type": "display_data"
    },
    {
     "name": "stdout",
     "output_type": "stream",
     "text": [
      "1.63583223119e-10\n",
      "1.25866866752e-08\n",
      "-9.78626123905\n"
     ]
    }
   ],
   "source": [
    "import numpy as np\n",
    "import matplotlib.pyplot as plt\n",
    "\n",
    "sample_20171104 = np.random.normal(-10.8, 1.3, 5000)\n",
    "sample_20180301 = np.random.normal(-12.0, 1.7, 5000)\n",
    "sample_20180302 = np.random.normal(-11.2, 1.2, 5000)\n",
    "\n",
    "plt.figure()\n",
    "plt.hist(sample_20171104)\n",
    "plt.hist(sample_20180301)\n",
    "plt.hist(sample_20180302)\n",
    "plt.show()\n",
    "\n",
    "sample_unlogged_20171104 = 10.**(sample_20171104)\n",
    "sample_unlogged_20180301 = 10.**(sample_20180301)\n",
    "sample_unlogged_20180302 = 10.**(sample_20180302)\n",
    "\n",
    "plt.figure()\n",
    "plt.hist(sample_unlogged_20171104)\n",
    "#plt.hist(sample_unlogged_20180301)\n",
    "#plt.hist(sample_unlogged_20180302)\n",
    "plt.yscale('log',nonposy='clip')\n",
    "plt.show()\n",
    "\n",
    "full_sample = []\n",
    "\n",
    "for i in range(1000):\n",
    "    full_sample.append(sample_unlogged_20171104[i])\n",
    "    full_sample.append(sample_unlogged_20180301[i])\n",
    "    full_sample.append(sample_unlogged_20180302[i])\n",
    "    \n",
    "full_sample_use = np.array(full_sample)\n",
    "\n",
    "print np.sum(full_sample_use)/15000.\n",
    "print np.std(full_sample_use)\n",
    "\n",
    "#full_sample_logged = np.log10(full_sample)\n",
    "\n",
    "print np.log10(np.sum(full_sample_use)/15000.)\n",
    "\n",
    "\n",
    "\n"
   ]
  }
 ],
 "metadata": {
  "kernelspec": {
   "display_name": "Python 2",
   "language": "python",
   "name": "python2"
  },
  "language_info": {
   "codemirror_mode": {
    "name": "ipython",
    "version": 2
   },
   "file_extension": ".py",
   "mimetype": "text/x-python",
   "name": "python",
   "nbconvert_exporter": "python",
   "pygments_lexer": "ipython2",
   "version": "2.7.14"
  }
 },
 "nbformat": 4,
 "nbformat_minor": 2
}
