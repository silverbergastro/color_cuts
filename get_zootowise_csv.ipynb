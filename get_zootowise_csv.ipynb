{
 "cells": [
  {
   "cell_type": "code",
   "execution_count": 3,
   "metadata": {},
   "outputs": [
    {
     "name": "stdout",
     "output_type": "stream",
     "text": [
      "Done\n",
      "Done\n"
     ]
    }
   ],
   "source": [
    "import pandas as pd\n",
    "\n",
    "with open('zootowise.txt') as f:\n",
    "    data = f.readlines()\n",
    "\n",
    "f1 = open('zootowise.csv','w')\n",
    "\n",
    "zoo_to_wise_dict = {}\n",
    "wise_to_zoo_dict = {}\n",
    "    \n",
    "for line in data:\n",
    "    line_use = line.rstrip()\n",
    "    vec = line.split()\n",
    "    f1.write(vec[0]+','+vec[1]+'\\n')\n",
    "    \n",
    "    #zooid = vec[0]\n",
    "    #wiseid = vec[1]\n",
    "    \n",
    "    #if wiseid not in wise_to_zoo_dict.keys():\n",
    "    #    wise_to_zoo_dict[wiseid] = [zooid]\n",
    "    #else:\n",
    "    #    wise_to_zoo_dict[wiseid].append(zooid)\n",
    "        \n",
    "    #zoo_to_wise_dict[zooid] = wiseid\n",
    "    \n",
    "f1.close()\n",
    "\n",
    "print \"Done\"\n",
    "\n",
    "df = pd.read_csv('zootowise.csv')\n",
    "data = df.values\n",
    "\n",
    "zooid_list = data[:,0].tolist()\n",
    "wiseid_list = set(data[:,1].tolist())\n",
    "\n",
    "zoo_to_wise_dict = {data[i,0]: data[i,1] for i in range(data[:,0].size)}\n",
    "    \n",
    "with open('input_zooids.txt') as f2:\n",
    "    input_zooids_data = f2.readlines()\n",
    "    \n",
    "input_zooids = []\n",
    "\n",
    "for line in input_zooids_data:\n",
    "    input_zooids.append(line.rstrip())\n",
    "    \n",
    "f3 = open('zooids_wiseids.csv','w')\n",
    "\n",
    "for zooid in input_zooids:\n",
    "    f3.write(zooid+','+zoo_to_wise_dict[zooid]+'\\n')\n",
    "    \n",
    "f3.close()\n",
    "\n",
    "print \"Done\""
   ]
  }
 ],
 "metadata": {
  "kernelspec": {
   "display_name": "Python 2",
   "language": "python",
   "name": "python2"
  }
 },
 "nbformat": 4,
 "nbformat_minor": 2
}
